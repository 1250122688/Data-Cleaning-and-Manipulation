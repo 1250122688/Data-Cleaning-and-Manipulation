{
 "cells": [
  {
   "cell_type": "code",
   "execution_count": 1,
   "metadata": {},
   "outputs": [],
   "source": [
    "import pandas as pd\n",
    "import openpyxl\n",
    "work_book=openpyxl.Workbook()"
   ]
  },
  {
   "cell_type": "code",
   "execution_count": 2,
   "metadata": {},
   "outputs": [],
   "source": [
    "def change_location(lie):\n",
    "    new=''\n",
    "    if lie=='AUS':\n",
    "        new='AUSTRALIA'\n",
    "    elif lie=='CAN':\n",
    "        new='CANADA'\n",
    "    \n",
    "    return new"
   ]
  },
  {
   "cell_type": "code",
   "execution_count": 3,
   "metadata": {},
   "outputs": [],
   "source": [
    "def transfer(data,sex):\n",
    "    data1=data.loc[data['SUBJECT']==sex,:]\n",
    "    country1=list(data1['LOCATION'].unique())\n",
    "    year1=list(data1['TIME'].unique())\n",
    "    save1=pd.DataFrame(columns=['TIME']+country1)\n",
    "    save1['TIME']=year1\n",
    "    for country_1 in country1:\n",
    "        save1[country_1]=pd.merge(save1,data1.loc[(data1['LOCATION']==country_1),:],how='left',on='TIME')['Value']\n",
    "    save1.rename(columns={'TIME':'Date'},inplace=True)\n",
    "    sheet=work_book.create_sheet(sex)\n",
    "    sheet.append(list(save1.columns))\n",
    "    for index, row in save1.iterrows():\n",
    "        sheet.append(list(row))\n",
    "    return     "
   ]
  },
  {
   "cell_type": "code",
   "execution_count": 4,
   "metadata": {},
   "outputs": [],
   "source": [
    "data=pd.read_csv('DP_LIVE_30062021052220490.csv')[['LOCATION','SUBJECT','TIME','Value']]\n",
    "\n",
    "#data['LOCATION']=data['LOCATION'].apply(change_location)\n",
    "    \n",
    "save1=transfer(data,'MEN')\n",
    "save2=transfer(data,'WOMEN')\n",
    "save3=transfer(data,'TOT')\n",
    "\n",
    "del work_book['Sheet']\n",
    "work_book.save('new.xlsx')"
   ]
  },
  {
   "cell_type": "code",
   "execution_count": null,
   "metadata": {},
   "outputs": [],
   "source": []
  }
 ],
 "metadata": {
  "kernelspec": {
   "display_name": "Python 3",
   "language": "python",
   "name": "python3"
  },
  "language_info": {
   "codemirror_mode": {
    "name": "ipython",
    "version": 3
   },
   "file_extension": ".py",
   "mimetype": "text/x-python",
   "name": "python",
   "nbconvert_exporter": "python",
   "pygments_lexer": "ipython3",
   "version": "3.8.8"
  }
 },
 "nbformat": 4,
 "nbformat_minor": 2
}
